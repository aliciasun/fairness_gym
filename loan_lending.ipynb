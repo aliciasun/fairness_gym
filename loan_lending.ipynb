{
 "cells": [
  {
   "cell_type": "code",
   "execution_count": 24,
   "metadata": {},
   "outputs": [
    {
     "data": {
      "text/plain": [
       "<module 'environment' from '/Users/alicia/Desktop/Research/fairness_gym/environment.py'>"
      ]
     },
     "execution_count": 24,
     "metadata": {},
     "output_type": "execute_result"
    }
   ],
   "source": [
    "import torch\n",
    "import numpy\n",
    "\n",
    "import environment \n",
    "import importlib\n",
    "importlib.reload(environment)"
   ]
  },
  {
   "cell_type": "code",
   "execution_count": 19,
   "metadata": {},
   "outputs": [
    {
     "data": {
      "image/png": "[encoded data removed]",
      "text/plain": [
       "<IPython.core.display.Image object>"
      ]
     },
     "execution_count": 19,
     "metadata": {},
     "output_type": "execute_result"
    }
   ],
   "source": [
    "sem = environment.SEM({\"Np\": None, \"Z\": None, \"Nx\": None, \"T\": [\"Np\", \"Z\"], \"X\": [\"Z\", \"T\", \"Nx\"], \"Y\": [\"T\", \"X\"]})\n",
    "# sem.summary()\n",
    "sem.draw()"
   ]
  },
  {
   "cell_type": "markdown",
   "metadata": {},
   "source": [
    "#### Specify the structural equations"
   ]
  },
  {
   "cell_type": "code",
   "execution_count": 20,
   "metadata": {},
   "outputs": [
    {
     "name": "stdout",
     "output_type": "stream",
     "text": [
      "All vertices:  ['Np', 'Z', 'Nx', 'T', 'X', 'Y']\n",
      "Roots:  ['Np', 'Z', 'Nx']\n",
      "Non-roots:  ['T', 'X', 'Y']\n"
     ]
    }
   ],
   "source": [
    "# All vertices\n",
    "print(\"All vertices: \", sem.vertices())\n",
    "# Root vertices => provide distributions\n",
    "print(\"Roots: \", sem.roots())\n",
    "# Non root vertices => provide equations making use of all parents\n",
    "print(\"Non-roots: \", sem.non_roots())"
   ]
  },
  {
   "cell_type": "code",
   "execution_count": 22,
   "metadata": {},
   "outputs": [
    {
     "name": "stdout",
     "output_type": "stream",
     "text": [
      "Attaching equation to vertex Np... DONE\n",
      "Attaching equation to vertex Z... DONE\n",
      "Attaching equation to vertex Nx... DONE\n",
      "Attaching equation to vertex T... DONE\n",
      "Attaching equation to vertex X... DONE\n",
      "Attaching equation to vertex Y... DONE\n"
     ]
    }
   ],
   "source": [
    "#root variables are random numbers\n",
    "for v in sem.roots():\n",
    "    sem.attach_equation(v, lambda n: torch. randn(n,1))\n",
    "\n",
    "# non-root variables are linear functions of their parents\n",
    "sem.attach_equation(\"T\", lambda data: 1*data['Np'] + 1*data['Z'] )\n",
    "sem.attach_equation(\"X\", lambda data: 1*data['T'] + 1*data['Nx'])\n",
    "sem.attach_equation(\"Y\", lambda data: 1*data['T'] + 1*data['X']+1*data['Z'])"
   ]
  },
  {
   "cell_type": "markdown",
   "metadata": {},
   "source": [
    "### sample from the SEM models"
   ]
  },
  {
   "cell_type": "code",
   "execution_count": 25,
   "metadata": {},
   "outputs": [
    {
     "name": "stdout",
     "output_type": "stream",
     "text": [
      "Sample vertex Nx... DONE\n",
      "Sample vertex Z... DONE\n",
      "Sample vertex Np... DONE\n",
      "Sample vertex T... DONE\n",
      "Sample vertex X... DONE\n",
      "Sample vertex Y... DONE\n"
     ]
    }
   ],
   "source": [
    "sample = sem.sample(1000)"
   ]
  },
  {
   "cell_type": "code",
   "execution_count": null,
   "metadata": {},
   "outputs": [],
   "source": []
  },
  {
   "cell_type": "code",
   "execution_count": null,
   "metadata": {},
   "outputs": [],
   "source": []
  },
  {
   "cell_type": "code",
   "execution_count": null,
   "metadata": {},
   "outputs": [],
   "source": []
  },
  {
   "cell_type": "code",
   "execution_count": null,
   "metadata": {},
   "outputs": [],
   "source": []
  },
  {
   "cell_type": "code",
   "execution_count": null,
   "metadata": {},
   "outputs": [],
   "source": []
  }
 ],
 "metadata": {
  "kernelspec": {
   "display_name": "Python 3.7.3 64-bit ('python3': conda)",
   "language": "python",
   "name": "python37364bitpython3conda315854e42d96498b9063077bad9ce9e5"
  },
  "language_info": {
   "codemirror_mode": {
    "name": "ipython",
    "version": 3
   },
   "file_extension": ".py",
   "mimetype": "text/x-python",
   "name": "python",
   "nbconvert_exporter": "python",
   "pygments_lexer": "ipython3",
   "version": "3.7.3"
  }
 },
 "nbformat": 4,
 "nbformat_minor": 2
}
